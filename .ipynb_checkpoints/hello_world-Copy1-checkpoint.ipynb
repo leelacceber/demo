{
 "cells": [
  {
   "cell_type": "markdown",
   "metadata": {
    "slideshow": {
     "slide_type": "slide"
    }
   },
   "source": [
    "<html>\n",
    "\t<head>\n",
    "\t\t<title>\n",
    "\t\t~My Web~\n",
    "\t\t</title>\n",
    "\t\t<style>\n",
    "\t\tli \n",
    "\t\t\t{\n",
    "\t\t\tcolor:grey;\n",
    "\t\t\tfont-size:25px;\n",
    "\t\t\tborder-style: solid;\n",
    "\t\t\tmargin: 5px;\n",
    "\t\t\tpadding-left: 5px;\n",
    "\t\t\t}\n",
    "\t\t</style>\n",
    "\t</head>\n",
    "\t<body>\n",
    "\tHello world!!!\n",
    "\t\t<div class:my_box>\n",
    "\t\tWow! My own box!\n",
    "\t\t</div>\n",
    "\t\t<ol>\n",
    "\t\t\t<li style=\"font-size:10px\">one</li>\n",
    "\t\t\t<li style=\"font-size:20px\">two</li>\n",
    "\t\t\t<li style=\"font-size:30px\">three</li>\n",
    "\t\t\t<li style=\"font-size:40px\">four</li>\n",
    "\t\t\t<li style=\"font-size:50px\">five</li>\n",
    "\t\t\t<li style=\"font-size:60px\">six</li>\n",
    "\t\t</ol>\n",
    "\t\t<ul>\n",
    "\t\t\t<li style=\"color:red\">red</li>\n",
    "\t\t\t<li style=\"color:orange\">orange</li>\n",
    "\t\t\t<li style=\"color:yellow\">yellow</li>\n",
    "\t\t\t<li style=\"color:green\">green</li>\n",
    "\t\t\t<li style=\"color:blue\">blue</li>\n",
    "\t\t\t<li style=\"color:purple\">purple</li>\n",
    "\t\t</ul>\t\t\t\n",
    "\t</body>\n",
    "</html>"
   ]
  },
  {
   "cell_type": "markdown",
   "metadata": {
    "slideshow": {
     "slide_type": "slide"
    }
   },
   "source": [
    "\\begin{equation*}\n",
    "a=\\sqrt\\frac{\\sum_{k=1}^n\\left(x-\\overline{x}\\right)^2}{n}\n",
    "\\end{equation*}"
   ]
  },
  {
   "cell_type": "code",
   "execution_count": null,
   "metadata": {},
   "outputs": [],
   "source": []
  }
 ],
 "metadata": {
  "celltoolbar": "Slideshow",
  "kernelspec": {
   "display_name": "Python 3",
   "language": "python",
   "name": "python3"
  },
  "language_info": {
   "codemirror_mode": {
    "name": "ipython",
    "version": 3
   },
   "file_extension": ".py",
   "mimetype": "text/x-python",
   "name": "python",
   "nbconvert_exporter": "python",
   "pygments_lexer": "ipython3",
   "version": "3.6.4"
  }
 },
 "nbformat": 4,
 "nbformat_minor": 2
}
